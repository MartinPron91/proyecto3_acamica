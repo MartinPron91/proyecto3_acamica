{
  "nbformat": 4,
  "nbformat_minor": 0,
  "metadata": {
    "kernelspec": {
      "display_name": "Python 3",
      "language": "python",
      "name": "python3"
    },
    "language_info": {
      "codemirror_mode": {
        "name": "ipython",
        "version": 3
      },
      "file_extension": ".py",
      "mimetype": "text/x-python",
      "name": "python",
      "nbconvert_exporter": "python",
      "pygments_lexer": "ipython3",
      "version": "3.8.2"
    },
    "colab": {
      "name": "Copia de DS_Proyecto_03_ST.ipynb",
      "provenance": [],
      "collapsed_sections": []
    }
  },
  "cells": [
    {
      "cell_type": "markdown",
      "metadata": {
        "id": "Y5xSScYVId1j"
      },
      "source": [
        "# Proyecto 03 - Series de Tiempo\n",
        "\n",
        "## Dataset: Flujo Vehicular por Unidades de Peaje AUSA\n",
        "\n",
        "**Recuerda descargar el dataset de [aquí](https://data.buenosaires.gob.ar/dataset/flujo-vehicular-por-unidades-peaje-ausa). Deberás descargar -  al menos para comenzar - los años 2017, 2018 y 2019.**\n",
        "\n",
        "En este notebook te dejamos unas celdas para que puedas comenzar a trabajar con este dataset para los años 2017, 2018 y 2019. Si deseas utilizar otros años, ten en cuenta que deberás hacer el preprocesamiento correspondiente, ya que la estructura de los datos puede variar.\n",
        "\n",
        "**Importante:** Para el proyecto, debes comenzar con los datos de la autopista Illia, pago en Efectivo.\n",
        "\n",
        "### Exploración de datos\n",
        "\n",
        "Dedícale un buen tiempo a hacer un Análisis Exploratorio de Datos. Elige preguntas que creas que puedas responder con este dataset. Por ejemplo, ¿Cuáles son los días y horarios de mayor tráfico? También, estudia autocorrelaciones, resampleos, etc.\n",
        "\n",
        "#### Componentes de la serie\n",
        "\n",
        "1. Calcula las componentes estacionales y tendencia de la serie. Interpreta los resultados, si es necesario con información auxiliar (por fuera del dataset) o elementos del dataset que no estés utilizando (por ejemplo, si la tendencia es negativa, ¿puede ser porque se migre a otras formas de pago?).\n",
        "1. ¿La serie posee valores atípicos? Si es así, interpreta, si es necesario con información auxiliar. **Pista**: primer semestre 2019.\n",
        "\n",
        "### Predicción a Futuro\n",
        "\n",
        "Debes implementar un modelo que prediga el tráfico en la autopista Illia para el último trimestre del 2019. \n",
        "\n",
        "1. Haz todas las transformaciones de datos que consideres necesarias. Justifica.\n",
        "1. Evalúa de forma apropiada tus resultados. Justifica la métrica elegida.\n",
        "1. Elige un modelo benchmark y compara tus resultados con este modelo.\n",
        "1. Optimiza los hiperparámetros de tu modelo. \n",
        "1. Intenta responder la pregunta: ¿Qué información está usando el modelo para predecir?\n",
        "1. Utiliza el modelo creado para predecir el tráfico en el año 2020. ¿Cómo funciona?\n",
        "1. Si lo deseas, puedes agregar información de años anteriores a 2017. ¿Mejoran los resultados?\n",
        "\n",
        "### Para pensar, investigar y, opcionalmente, implementar\n",
        "1. ¿Cómo incorporarías la información sobre tipo de vehículo, forma de pago, sentido, día de la semana, etc.? En lo que respecta a las predicciones, ¿mejoran o empeoran?\n",
        "1. ¿Qué ocurre si comparas las series de tiempo entre distintas estaciones de peajes?¿Tienen el mismo comportamiento o hay alguna que sea distinta a las otras? Si es así, ¿hay información auxiliar que te ayude a explicar lo que encuentras?\n",
        "1. ¿Hay algo que te gustaría investigar o probar?\n",
        "\n",
        "### **¡Tómate tiempo para investigar y leer mucho!**\n",
        "\n",
        "### 1. Preparación del Dataset"
      ]
    },
    {
      "cell_type": "code",
      "metadata": {
        "id": "W7HAw3EvId1m"
      },
      "source": [
        "import pandas as pd\n",
        "import numpy as np\n",
        "import matplotlib.pyplot as plt\n",
        "import datetime"
      ],
      "execution_count": 1,
      "outputs": []
    },
    {
      "cell_type": "code",
      "metadata": {
        "id": "f5_XZaZEquNY",
        "colab": {
          "base_uri": "https://localhost:8080/"
        },
        "outputId": "55b336c8-c144-49f9-cc89-4e9d83794758"
      },
      "source": [
        "# Vincular la cuenta de Googgle Drive donde están almacenados los archivos\n",
        "from google.colab import drive\n",
        "drive.mount('/content/gdrive')"
      ],
      "execution_count": 2,
      "outputs": [
        {
          "output_type": "stream",
          "name": "stdout",
          "text": [
            "Drive already mounted at /content/gdrive; to attempt to forcibly remount, call drive.mount(\"/content/gdrive\", force_remount=True).\n"
          ]
        }
      ]
    },
    {
      "cell_type": "code",
      "metadata": {
        "id": "hgxJSUQ0Id1x"
      },
      "source": [
        "data_2019 = pd.read_csv('/content/gdrive/MyDrive/Colab Notebooks/flujo-vehicular-2019.csv', sep =',')\n",
        "data_2018 = pd.read_csv('/content/gdrive/MyDrive/Colab Notebooks/flujo-vehicular-2018.csv', sep =',')\n",
        "data_2017 = pd.read_csv('/content/gdrive/MyDrive/Colab Notebooks/flujo-vehicular-2017.csv', sep =',')"
      ],
      "execution_count": 3,
      "outputs": []
    },
    {
      "cell_type": "code",
      "metadata": {
        "id": "-rqv8_yHId19",
        "colab": {
          "base_uri": "https://localhost:8080/",
          "height": 515
        },
        "outputId": "18931c7f-6f8b-476b-b3cc-0fe23347e3e0"
      },
      "source": [
        "data_2019.info()\n",
        "data_2019.head()"
      ],
      "execution_count": 4,
      "outputs": [
        {
          "output_type": "stream",
          "name": "stdout",
          "text": [
            "<class 'pandas.core.frame.DataFrame'>\n",
            "RangeIndex: 812153 entries, 0 to 812152\n",
            "Data columns (total 10 columns):\n",
            " #   Column          Non-Null Count   Dtype \n",
            "---  ------          --------------   ----- \n",
            " 0   periodo         812153 non-null  int64 \n",
            " 1   fecha           812153 non-null  object\n",
            " 2   hora_inicio     812153 non-null  int64 \n",
            " 3   hora_fin        812153 non-null  int64 \n",
            " 4   dia             812153 non-null  object\n",
            " 5   estacion        812153 non-null  object\n",
            " 6   sentido         812153 non-null  object\n",
            " 7   tipo_vehiculo   812153 non-null  object\n",
            " 8   forma_pago      812153 non-null  object\n",
            " 9   cantidad_pasos  812153 non-null  int64 \n",
            "dtypes: int64(4), object(6)\n",
            "memory usage: 62.0+ MB\n"
          ]
        },
        {
          "output_type": "execute_result",
          "data": {
            "text/html": [
              "<div>\n",
              "<style scoped>\n",
              "    .dataframe tbody tr th:only-of-type {\n",
              "        vertical-align: middle;\n",
              "    }\n",
              "\n",
              "    .dataframe tbody tr th {\n",
              "        vertical-align: top;\n",
              "    }\n",
              "\n",
              "    .dataframe thead th {\n",
              "        text-align: right;\n",
              "    }\n",
              "</style>\n",
              "<table border=\"1\" class=\"dataframe\">\n",
              "  <thead>\n",
              "    <tr style=\"text-align: right;\">\n",
              "      <th></th>\n",
              "      <th>periodo</th>\n",
              "      <th>fecha</th>\n",
              "      <th>hora_inicio</th>\n",
              "      <th>hora_fin</th>\n",
              "      <th>dia</th>\n",
              "      <th>estacion</th>\n",
              "      <th>sentido</th>\n",
              "      <th>tipo_vehiculo</th>\n",
              "      <th>forma_pago</th>\n",
              "      <th>cantidad_pasos</th>\n",
              "    </tr>\n",
              "  </thead>\n",
              "  <tbody>\n",
              "    <tr>\n",
              "      <th>0</th>\n",
              "      <td>2019</td>\n",
              "      <td>2019-01-01</td>\n",
              "      <td>0</td>\n",
              "      <td>1</td>\n",
              "      <td>Martes</td>\n",
              "      <td>Alberti</td>\n",
              "      <td>Centro</td>\n",
              "      <td>Liviano</td>\n",
              "      <td>NO COBRADO</td>\n",
              "      <td>22</td>\n",
              "    </tr>\n",
              "    <tr>\n",
              "      <th>1</th>\n",
              "      <td>2019</td>\n",
              "      <td>2019-01-01</td>\n",
              "      <td>0</td>\n",
              "      <td>1</td>\n",
              "      <td>Martes</td>\n",
              "      <td>Alberti</td>\n",
              "      <td>Centro</td>\n",
              "      <td>Liviano</td>\n",
              "      <td>TELEPASE</td>\n",
              "      <td>6</td>\n",
              "    </tr>\n",
              "    <tr>\n",
              "      <th>2</th>\n",
              "      <td>2019</td>\n",
              "      <td>2019-01-01</td>\n",
              "      <td>0</td>\n",
              "      <td>1</td>\n",
              "      <td>Martes</td>\n",
              "      <td>Alberti</td>\n",
              "      <td>Provincia</td>\n",
              "      <td>Liviano</td>\n",
              "      <td>NO COBRADO</td>\n",
              "      <td>53</td>\n",
              "    </tr>\n",
              "    <tr>\n",
              "      <th>3</th>\n",
              "      <td>2019</td>\n",
              "      <td>2019-01-01</td>\n",
              "      <td>0</td>\n",
              "      <td>1</td>\n",
              "      <td>Martes</td>\n",
              "      <td>Alberti</td>\n",
              "      <td>Provincia</td>\n",
              "      <td>Liviano</td>\n",
              "      <td>TELEPASE</td>\n",
              "      <td>18</td>\n",
              "    </tr>\n",
              "    <tr>\n",
              "      <th>4</th>\n",
              "      <td>2019</td>\n",
              "      <td>2019-01-01</td>\n",
              "      <td>0</td>\n",
              "      <td>1</td>\n",
              "      <td>Martes</td>\n",
              "      <td>Avellaneda</td>\n",
              "      <td>Centro</td>\n",
              "      <td>Liviano</td>\n",
              "      <td>EFECTIVO</td>\n",
              "      <td>16</td>\n",
              "    </tr>\n",
              "  </tbody>\n",
              "</table>\n",
              "</div>"
            ],
            "text/plain": [
              "   periodo       fecha  hora_inicio  ...  tipo_vehiculo  forma_pago cantidad_pasos\n",
              "0     2019  2019-01-01            0  ...        Liviano  NO COBRADO             22\n",
              "1     2019  2019-01-01            0  ...        Liviano    TELEPASE              6\n",
              "2     2019  2019-01-01            0  ...        Liviano  NO COBRADO             53\n",
              "3     2019  2019-01-01            0  ...        Liviano    TELEPASE             18\n",
              "4     2019  2019-01-01            0  ...        Liviano    EFECTIVO             16\n",
              "\n",
              "[5 rows x 10 columns]"
            ]
          },
          "metadata": {},
          "execution_count": 4
        }
      ]
    },
    {
      "cell_type": "code",
      "metadata": {
        "id": "t327LOEhId2G",
        "colab": {
          "base_uri": "https://localhost:8080/",
          "height": 515
        },
        "outputId": "e274e5f9-75b4-4b99-b730-6a1ef46c2724"
      },
      "source": [
        "data_2018.info()\n",
        "data_2018.head()"
      ],
      "execution_count": 5,
      "outputs": [
        {
          "output_type": "stream",
          "name": "stdout",
          "text": [
            "<class 'pandas.core.frame.DataFrame'>\n",
            "RangeIndex: 1375908 entries, 0 to 1375907\n",
            "Data columns (total 10 columns):\n",
            " #   Column          Non-Null Count    Dtype \n",
            "---  ------          --------------    ----- \n",
            " 0   periodo         1375908 non-null  int64 \n",
            " 1   fecha           1375908 non-null  object\n",
            " 2   hora_inicio     1375908 non-null  int64 \n",
            " 3   hora_fin        1375908 non-null  int64 \n",
            " 4   dia             1375908 non-null  object\n",
            " 5   estacion        1375908 non-null  object\n",
            " 6   sentido         1375908 non-null  object\n",
            " 7   tipo_vehiculo   1375908 non-null  object\n",
            " 8   forma_pago      1375908 non-null  object\n",
            " 9   cantidad_pasos  1375908 non-null  int64 \n",
            "dtypes: int64(4), object(6)\n",
            "memory usage: 105.0+ MB\n"
          ]
        },
        {
          "output_type": "execute_result",
          "data": {
            "text/html": [
              "<div>\n",
              "<style scoped>\n",
              "    .dataframe tbody tr th:only-of-type {\n",
              "        vertical-align: middle;\n",
              "    }\n",
              "\n",
              "    .dataframe tbody tr th {\n",
              "        vertical-align: top;\n",
              "    }\n",
              "\n",
              "    .dataframe thead th {\n",
              "        text-align: right;\n",
              "    }\n",
              "</style>\n",
              "<table border=\"1\" class=\"dataframe\">\n",
              "  <thead>\n",
              "    <tr style=\"text-align: right;\">\n",
              "      <th></th>\n",
              "      <th>periodo</th>\n",
              "      <th>fecha</th>\n",
              "      <th>hora_inicio</th>\n",
              "      <th>hora_fin</th>\n",
              "      <th>dia</th>\n",
              "      <th>estacion</th>\n",
              "      <th>sentido</th>\n",
              "      <th>tipo_vehiculo</th>\n",
              "      <th>forma_pago</th>\n",
              "      <th>cantidad_pasos</th>\n",
              "    </tr>\n",
              "  </thead>\n",
              "  <tbody>\n",
              "    <tr>\n",
              "      <th>0</th>\n",
              "      <td>2018</td>\n",
              "      <td>2018-01-01</td>\n",
              "      <td>0</td>\n",
              "      <td>1</td>\n",
              "      <td>Lunes</td>\n",
              "      <td>Alberdi</td>\n",
              "      <td>Centro</td>\n",
              "      <td>Liviano</td>\n",
              "      <td>NO COBRADO</td>\n",
              "      <td>29</td>\n",
              "    </tr>\n",
              "    <tr>\n",
              "      <th>1</th>\n",
              "      <td>2018</td>\n",
              "      <td>2018-01-01</td>\n",
              "      <td>0</td>\n",
              "      <td>1</td>\n",
              "      <td>Lunes</td>\n",
              "      <td>Alberdi</td>\n",
              "      <td>Centro</td>\n",
              "      <td>Liviano</td>\n",
              "      <td>TELEPASE</td>\n",
              "      <td>9</td>\n",
              "    </tr>\n",
              "    <tr>\n",
              "      <th>2</th>\n",
              "      <td>2018</td>\n",
              "      <td>2018-01-01</td>\n",
              "      <td>1</td>\n",
              "      <td>2</td>\n",
              "      <td>Lunes</td>\n",
              "      <td>Alberdi</td>\n",
              "      <td>Centro</td>\n",
              "      <td>Liviano</td>\n",
              "      <td>NO COBRADO</td>\n",
              "      <td>73</td>\n",
              "    </tr>\n",
              "    <tr>\n",
              "      <th>3</th>\n",
              "      <td>2018</td>\n",
              "      <td>2018-01-01</td>\n",
              "      <td>1</td>\n",
              "      <td>2</td>\n",
              "      <td>Lunes</td>\n",
              "      <td>Alberdi</td>\n",
              "      <td>Centro</td>\n",
              "      <td>Liviano</td>\n",
              "      <td>TELEPASE</td>\n",
              "      <td>39</td>\n",
              "    </tr>\n",
              "    <tr>\n",
              "      <th>4</th>\n",
              "      <td>2018</td>\n",
              "      <td>2018-01-01</td>\n",
              "      <td>2</td>\n",
              "      <td>3</td>\n",
              "      <td>Lunes</td>\n",
              "      <td>Alberdi</td>\n",
              "      <td>Centro</td>\n",
              "      <td>Liviano</td>\n",
              "      <td>NO COBRADO</td>\n",
              "      <td>115</td>\n",
              "    </tr>\n",
              "  </tbody>\n",
              "</table>\n",
              "</div>"
            ],
            "text/plain": [
              "   periodo       fecha  hora_inicio  ...  tipo_vehiculo  forma_pago cantidad_pasos\n",
              "0     2018  2018-01-01            0  ...        Liviano  NO COBRADO             29\n",
              "1     2018  2018-01-01            0  ...        Liviano    TELEPASE              9\n",
              "2     2018  2018-01-01            1  ...        Liviano  NO COBRADO             73\n",
              "3     2018  2018-01-01            1  ...        Liviano    TELEPASE             39\n",
              "4     2018  2018-01-01            2  ...        Liviano  NO COBRADO            115\n",
              "\n",
              "[5 rows x 10 columns]"
            ]
          },
          "metadata": {},
          "execution_count": 5
        }
      ]
    },
    {
      "cell_type": "code",
      "metadata": {
        "id": "OvaBbZf_Id2N",
        "colab": {
          "base_uri": "https://localhost:8080/",
          "height": 515
        },
        "outputId": "f2b93614-294a-4cee-cdb2-5de468407f4a"
      },
      "source": [
        "data_2017.info()\n",
        "data_2017.head()"
      ],
      "execution_count": 6,
      "outputs": [
        {
          "output_type": "stream",
          "name": "stdout",
          "text": [
            "<class 'pandas.core.frame.DataFrame'>\n",
            "RangeIndex: 1372645 entries, 0 to 1372644\n",
            "Data columns (total 10 columns):\n",
            " #   Column          Non-Null Count    Dtype \n",
            "---  ------          --------------    ----- \n",
            " 0   periodo         1372645 non-null  int64 \n",
            " 1   fecha           1372645 non-null  object\n",
            " 2   hora_inicio     1372645 non-null  int64 \n",
            " 3   hora_fin        1372645 non-null  int64 \n",
            " 4   dia             1372645 non-null  object\n",
            " 5   estacion        1372645 non-null  object\n",
            " 6   sentido         1372645 non-null  object\n",
            " 7   tipo_vehiculo   1372645 non-null  object\n",
            " 8   forma_pago      1372645 non-null  object\n",
            " 9   cantidad_pasos  1372645 non-null  int64 \n",
            "dtypes: int64(4), object(6)\n",
            "memory usage: 104.7+ MB\n"
          ]
        },
        {
          "output_type": "execute_result",
          "data": {
            "text/html": [
              "<div>\n",
              "<style scoped>\n",
              "    .dataframe tbody tr th:only-of-type {\n",
              "        vertical-align: middle;\n",
              "    }\n",
              "\n",
              "    .dataframe tbody tr th {\n",
              "        vertical-align: top;\n",
              "    }\n",
              "\n",
              "    .dataframe thead th {\n",
              "        text-align: right;\n",
              "    }\n",
              "</style>\n",
              "<table border=\"1\" class=\"dataframe\">\n",
              "  <thead>\n",
              "    <tr style=\"text-align: right;\">\n",
              "      <th></th>\n",
              "      <th>periodo</th>\n",
              "      <th>fecha</th>\n",
              "      <th>hora_inicio</th>\n",
              "      <th>hora_fin</th>\n",
              "      <th>dia</th>\n",
              "      <th>estacion</th>\n",
              "      <th>sentido</th>\n",
              "      <th>tipo_vehiculo</th>\n",
              "      <th>forma_pago</th>\n",
              "      <th>cantidad_pasos</th>\n",
              "    </tr>\n",
              "  </thead>\n",
              "  <tbody>\n",
              "    <tr>\n",
              "      <th>0</th>\n",
              "      <td>2017</td>\n",
              "      <td>2017-01-01</td>\n",
              "      <td>0</td>\n",
              "      <td>1</td>\n",
              "      <td>Domingo</td>\n",
              "      <td>Alberdi</td>\n",
              "      <td>Centro</td>\n",
              "      <td>Liviano</td>\n",
              "      <td>NO COBRADO</td>\n",
              "      <td>25</td>\n",
              "    </tr>\n",
              "    <tr>\n",
              "      <th>1</th>\n",
              "      <td>2017</td>\n",
              "      <td>2017-01-01</td>\n",
              "      <td>0</td>\n",
              "      <td>1</td>\n",
              "      <td>Domingo</td>\n",
              "      <td>Alberdi</td>\n",
              "      <td>Centro</td>\n",
              "      <td>Liviano</td>\n",
              "      <td>TELEPASE</td>\n",
              "      <td>7</td>\n",
              "    </tr>\n",
              "    <tr>\n",
              "      <th>2</th>\n",
              "      <td>2017</td>\n",
              "      <td>2017-01-01</td>\n",
              "      <td>1</td>\n",
              "      <td>2</td>\n",
              "      <td>Domingo</td>\n",
              "      <td>Alberdi</td>\n",
              "      <td>Centro</td>\n",
              "      <td>Liviano</td>\n",
              "      <td>NO COBRADO</td>\n",
              "      <td>5</td>\n",
              "    </tr>\n",
              "    <tr>\n",
              "      <th>3</th>\n",
              "      <td>2017</td>\n",
              "      <td>2017-01-01</td>\n",
              "      <td>1</td>\n",
              "      <td>2</td>\n",
              "      <td>Domingo</td>\n",
              "      <td>Alberdi</td>\n",
              "      <td>Centro</td>\n",
              "      <td>Liviano</td>\n",
              "      <td>EFECTIVO</td>\n",
              "      <td>2</td>\n",
              "    </tr>\n",
              "    <tr>\n",
              "      <th>4</th>\n",
              "      <td>2017</td>\n",
              "      <td>2017-01-01</td>\n",
              "      <td>1</td>\n",
              "      <td>2</td>\n",
              "      <td>Domingo</td>\n",
              "      <td>Alberdi</td>\n",
              "      <td>Centro</td>\n",
              "      <td>Liviano</td>\n",
              "      <td>EFECTIVO</td>\n",
              "      <td>94</td>\n",
              "    </tr>\n",
              "  </tbody>\n",
              "</table>\n",
              "</div>"
            ],
            "text/plain": [
              "   periodo       fecha  hora_inicio  ...  tipo_vehiculo  forma_pago cantidad_pasos\n",
              "0     2017  2017-01-01            0  ...        Liviano  NO COBRADO             25\n",
              "1     2017  2017-01-01            0  ...        Liviano    TELEPASE              7\n",
              "2     2017  2017-01-01            1  ...        Liviano  NO COBRADO              5\n",
              "3     2017  2017-01-01            1  ...        Liviano    EFECTIVO              2\n",
              "4     2017  2017-01-01            1  ...        Liviano    EFECTIVO             94\n",
              "\n",
              "[5 rows x 10 columns]"
            ]
          },
          "metadata": {},
          "execution_count": 6
        }
      ]
    },
    {
      "cell_type": "markdown",
      "metadata": {
        "id": "KcR5QSDTId2U"
      },
      "source": [
        "Investiguemos que valores toman los campos **estacion, sentido, tipo_vehiculo y forma_pago**"
      ]
    },
    {
      "cell_type": "code",
      "metadata": {
        "id": "5C-XUOgYId2V",
        "colab": {
          "base_uri": "https://localhost:8080/"
        },
        "outputId": "15aa5cda-285b-4b6e-f078-eac6bdec4a65"
      },
      "source": [
        "print(data_2019['estacion'].unique())\n",
        "print(data_2018['estacion'].unique())\n",
        "print(data_2017['estacion'].unique())"
      ],
      "execution_count": 7,
      "outputs": [
        {
          "output_type": "stream",
          "name": "stdout",
          "text": [
            "['Alberti' 'Avellaneda' 'Dellepiane' 'Illia' 'Retiro' 'Salguero'\n",
            " 'Sarmiento' 'PDB']\n",
            "['Alberdi' 'Avellaneda' 'Dellepiane Centro' 'Dellepiane Liniers' 'Illia'\n",
            " 'Retiro' 'Salguero' 'Sarmiento']\n",
            "['Alberdi' 'Avellaneda' 'Dellepiane Centro' 'Dellepiane Liniers' 'Illia'\n",
            " 'Retiro' 'Salguero' 'Sarmiento']\n"
          ]
        }
      ]
    },
    {
      "cell_type": "code",
      "metadata": {
        "id": "qqvXxv-DId2b",
        "colab": {
          "base_uri": "https://localhost:8080/"
        },
        "outputId": "3017b4cd-9789-490a-d5fe-a77c2a42205c"
      },
      "source": [
        "print(data_2019['sentido'].unique())\n",
        "print(data_2018['sentido'].unique())\n",
        "print(data_2017['sentido'].unique())"
      ],
      "execution_count": 8,
      "outputs": [
        {
          "output_type": "stream",
          "name": "stdout",
          "text": [
            "['Centro' 'Provincia']\n",
            "['Centro' 'Provincia']\n",
            "['Centro' 'Provincia']\n"
          ]
        }
      ]
    },
    {
      "cell_type": "code",
      "metadata": {
        "id": "KK4J02tHId2f",
        "colab": {
          "base_uri": "https://localhost:8080/"
        },
        "outputId": "36f524aa-d541-4d8e-eb55-1b0c81fcc3f8"
      },
      "source": [
        "print(data_2019['tipo_vehiculo'].unique())\n",
        "print(data_2018['tipo_vehiculo'].unique())\n",
        "print(data_2017['tipo_vehiculo'].unique())"
      ],
      "execution_count": 9,
      "outputs": [
        {
          "output_type": "stream",
          "name": "stdout",
          "text": [
            "['Liviano' 'Pesado']\n",
            "['Liviano' 'Pesado']\n",
            "['Liviano' 'Pesado']\n"
          ]
        }
      ]
    },
    {
      "cell_type": "code",
      "metadata": {
        "id": "_m8VhDhtId2k",
        "colab": {
          "base_uri": "https://localhost:8080/"
        },
        "outputId": "afdb45a2-cd00-4e23-b5ca-1b8ba843701b"
      },
      "source": [
        "print(data_2019['forma_pago'].unique())\n",
        "print(data_2018['forma_pago'].unique())\n",
        "print(data_2017['forma_pago'].unique())"
      ],
      "execution_count": 10,
      "outputs": [
        {
          "output_type": "stream",
          "name": "stdout",
          "text": [
            "['NO COBRADO' 'TELEPASE' 'EFECTIVO' 'EXENTO' 'INFRACCION'\n",
            " 'T. DISCAPACIDAD']\n",
            "['NO COBRADO' 'TELEPASE' 'EFECTIVO' 'EXENTO' 'TARJETA DISCAPACIDAD'\n",
            " 'INFRACCION']\n",
            "['NO COBRADO' 'TELEPASE' 'EFECTIVO' 'TARJETA DISCAPACIDAD' 'EXENTO'\n",
            " 'INFRACCION' 'MONEDERO' 'Otros']\n"
          ]
        }
      ]
    },
    {
      "cell_type": "markdown",
      "metadata": {
        "id": "OUImrZ0HId2q"
      },
      "source": [
        "##### Podemos decir entonces que los años 2017, 2018 y 2019 tienen las siguientes columnas con la siguiente información:\n",
        "\n",
        "**periodo**: año del dset \n",
        "\n",
        "**fecha**: año dia mes\n",
        "\n",
        "**hora_inicio** hora de inicio de la cuenta de vehiculos (DROP)\n",
        "\n",
        "**hora_fin** hora de fin de la cuenta de vehiculos (Vamos a usar esta para tomar la hora)\n",
        "\n",
        "**dia**: dia de la semana \n",
        "\n",
        "**estacion**: estaciones de peaje, difieren levemente entre los años (Dellepiane se unifica en 2019, antes habia Dellepiane Liniers y Centro, y se agrega PDB)\n",
        "\n",
        "**sentido**: Centro o Provincia\n",
        "\n",
        "**tipo_vehiculo**: Liviano o Pesado\n",
        "\n",
        "**forma_pago**: Hay varias y varian entre los años.\n",
        "\n",
        "**cantidad_pasos**: Cantidad de vehiculos"
      ]
    },
    {
      "cell_type": "markdown",
      "metadata": {
        "id": "cDmDNVJDId2r"
      },
      "source": [
        "Vamos a estar trabajando con la estación **Illia** y la forma de pago **Efectivo**\n"
      ]
    },
    {
      "cell_type": "code",
      "metadata": {
        "id": "SOUCg2f7Id2s",
        "colab": {
          "base_uri": "https://localhost:8080/",
          "height": 296
        },
        "outputId": "c2f7e9ec-212c-4f8b-c761-682310b08bdb"
      },
      "source": [
        "#Unimos los 3 datasets, podemos hacerlo asi directamente ya que tienen las mismas columnas\n",
        "dataset = pd.concat([data_2019, data_2018, data_2017])\n",
        "\n",
        "#Nos quedamos solamente con la estación Illia y la forma de pago Efectivo\n",
        "mask = np.logical_and(dataset.estacion=='Illia', dataset.forma_pago == 'EFECTIVO')\n",
        "dataset = dataset[mask]\n",
        "\n",
        "#Quitamos las columnas que no vamos a utilizar\n",
        "dataset.drop(columns = ['periodo','hora_inicio','forma_pago', 'estacion'], inplace = True)\n",
        "\n",
        "dataset.head()"
      ],
      "execution_count": 11,
      "outputs": [
        {
          "output_type": "stream",
          "name": "stderr",
          "text": [
            "/usr/local/lib/python3.7/dist-packages/pandas/core/frame.py:4174: SettingWithCopyWarning: \n",
            "A value is trying to be set on a copy of a slice from a DataFrame\n",
            "\n",
            "See the caveats in the documentation: https://pandas.pydata.org/pandas-docs/stable/user_guide/indexing.html#returning-a-view-versus-a-copy\n",
            "  errors=errors,\n"
          ]
        },
        {
          "output_type": "execute_result",
          "data": {
            "text/html": [
              "<div>\n",
              "<style scoped>\n",
              "    .dataframe tbody tr th:only-of-type {\n",
              "        vertical-align: middle;\n",
              "    }\n",
              "\n",
              "    .dataframe tbody tr th {\n",
              "        vertical-align: top;\n",
              "    }\n",
              "\n",
              "    .dataframe thead th {\n",
              "        text-align: right;\n",
              "    }\n",
              "</style>\n",
              "<table border=\"1\" class=\"dataframe\">\n",
              "  <thead>\n",
              "    <tr style=\"text-align: right;\">\n",
              "      <th></th>\n",
              "      <th>fecha</th>\n",
              "      <th>hora_fin</th>\n",
              "      <th>dia</th>\n",
              "      <th>sentido</th>\n",
              "      <th>tipo_vehiculo</th>\n",
              "      <th>cantidad_pasos</th>\n",
              "    </tr>\n",
              "  </thead>\n",
              "  <tbody>\n",
              "    <tr>\n",
              "      <th>80</th>\n",
              "      <td>2019-01-01</td>\n",
              "      <td>2</td>\n",
              "      <td>Martes</td>\n",
              "      <td>Centro</td>\n",
              "      <td>Liviano</td>\n",
              "      <td>537</td>\n",
              "    </tr>\n",
              "    <tr>\n",
              "      <th>86</th>\n",
              "      <td>2019-01-01</td>\n",
              "      <td>2</td>\n",
              "      <td>Martes</td>\n",
              "      <td>Centro</td>\n",
              "      <td>Pesado</td>\n",
              "      <td>1</td>\n",
              "    </tr>\n",
              "    <tr>\n",
              "      <th>88</th>\n",
              "      <td>2019-01-01</td>\n",
              "      <td>2</td>\n",
              "      <td>Martes</td>\n",
              "      <td>Provincia</td>\n",
              "      <td>Liviano</td>\n",
              "      <td>443</td>\n",
              "    </tr>\n",
              "    <tr>\n",
              "      <th>94</th>\n",
              "      <td>2019-01-01</td>\n",
              "      <td>2</td>\n",
              "      <td>Martes</td>\n",
              "      <td>Provincia</td>\n",
              "      <td>Pesado</td>\n",
              "      <td>1</td>\n",
              "    </tr>\n",
              "    <tr>\n",
              "      <th>149</th>\n",
              "      <td>2019-01-01</td>\n",
              "      <td>3</td>\n",
              "      <td>Martes</td>\n",
              "      <td>Centro</td>\n",
              "      <td>Liviano</td>\n",
              "      <td>769</td>\n",
              "    </tr>\n",
              "  </tbody>\n",
              "</table>\n",
              "</div>"
            ],
            "text/plain": [
              "          fecha  hora_fin     dia    sentido tipo_vehiculo  cantidad_pasos\n",
              "80   2019-01-01         2  Martes     Centro       Liviano             537\n",
              "86   2019-01-01         2  Martes     Centro        Pesado               1\n",
              "88   2019-01-01         2  Martes  Provincia       Liviano             443\n",
              "94   2019-01-01         2  Martes  Provincia        Pesado               1\n",
              "149  2019-01-01         3  Martes     Centro       Liviano             769"
            ]
          },
          "metadata": {},
          "execution_count": 11
        }
      ]
    },
    {
      "cell_type": "code",
      "metadata": {
        "id": "kLi3lxc_Id2x",
        "colab": {
          "base_uri": "https://localhost:8080/",
          "height": 205
        },
        "outputId": "50d389ba-846c-4fce-d0ad-4d32f79ab147"
      },
      "source": [
        "#Pasamos la columna fecha a formato datetime, y le unimos la hora_fin como hora\n",
        "dataset['fecha2'] = pd.to_datetime(dataset.fecha) + pd.to_timedelta(dataset.hora_fin, unit = 'h')\n",
        "\n",
        "#Quitamos las columnas fecha y hora_fin ya que las incluimos en el campo fecha2\n",
        "dataset.drop(columns=['fecha','hora_fin'], inplace = True)\n",
        "\n",
        "dataset.head()"
      ],
      "execution_count": 12,
      "outputs": [
        {
          "output_type": "execute_result",
          "data": {
            "text/html": [
              "<div>\n",
              "<style scoped>\n",
              "    .dataframe tbody tr th:only-of-type {\n",
              "        vertical-align: middle;\n",
              "    }\n",
              "\n",
              "    .dataframe tbody tr th {\n",
              "        vertical-align: top;\n",
              "    }\n",
              "\n",
              "    .dataframe thead th {\n",
              "        text-align: right;\n",
              "    }\n",
              "</style>\n",
              "<table border=\"1\" class=\"dataframe\">\n",
              "  <thead>\n",
              "    <tr style=\"text-align: right;\">\n",
              "      <th></th>\n",
              "      <th>dia</th>\n",
              "      <th>sentido</th>\n",
              "      <th>tipo_vehiculo</th>\n",
              "      <th>cantidad_pasos</th>\n",
              "      <th>fecha2</th>\n",
              "    </tr>\n",
              "  </thead>\n",
              "  <tbody>\n",
              "    <tr>\n",
              "      <th>80</th>\n",
              "      <td>Martes</td>\n",
              "      <td>Centro</td>\n",
              "      <td>Liviano</td>\n",
              "      <td>537</td>\n",
              "      <td>2019-01-01 02:00:00</td>\n",
              "    </tr>\n",
              "    <tr>\n",
              "      <th>86</th>\n",
              "      <td>Martes</td>\n",
              "      <td>Centro</td>\n",
              "      <td>Pesado</td>\n",
              "      <td>1</td>\n",
              "      <td>2019-01-01 02:00:00</td>\n",
              "    </tr>\n",
              "    <tr>\n",
              "      <th>88</th>\n",
              "      <td>Martes</td>\n",
              "      <td>Provincia</td>\n",
              "      <td>Liviano</td>\n",
              "      <td>443</td>\n",
              "      <td>2019-01-01 02:00:00</td>\n",
              "    </tr>\n",
              "    <tr>\n",
              "      <th>94</th>\n",
              "      <td>Martes</td>\n",
              "      <td>Provincia</td>\n",
              "      <td>Pesado</td>\n",
              "      <td>1</td>\n",
              "      <td>2019-01-01 02:00:00</td>\n",
              "    </tr>\n",
              "    <tr>\n",
              "      <th>149</th>\n",
              "      <td>Martes</td>\n",
              "      <td>Centro</td>\n",
              "      <td>Liviano</td>\n",
              "      <td>769</td>\n",
              "      <td>2019-01-01 03:00:00</td>\n",
              "    </tr>\n",
              "  </tbody>\n",
              "</table>\n",
              "</div>"
            ],
            "text/plain": [
              "        dia    sentido tipo_vehiculo  cantidad_pasos              fecha2\n",
              "80   Martes     Centro       Liviano             537 2019-01-01 02:00:00\n",
              "86   Martes     Centro        Pesado               1 2019-01-01 02:00:00\n",
              "88   Martes  Provincia       Liviano             443 2019-01-01 02:00:00\n",
              "94   Martes  Provincia        Pesado               1 2019-01-01 02:00:00\n",
              "149  Martes     Centro       Liviano             769 2019-01-01 03:00:00"
            ]
          },
          "metadata": {},
          "execution_count": 12
        }
      ]
    },
    {
      "cell_type": "code",
      "metadata": {
        "id": "8coELKbyId23",
        "colab": {
          "base_uri": "https://localhost:8080/",
          "height": 205
        },
        "outputId": "7a59eacc-8972-4324-ae24-3502b5fdb696"
      },
      "source": [
        "#Corregimos el nombre de fecha2 a fecha\n",
        "dataset.rename(columns = {'fecha2':'fecha'}, inplace = True) \n",
        "dataset.head()"
      ],
      "execution_count": 13,
      "outputs": [
        {
          "output_type": "execute_result",
          "data": {
            "text/html": [
              "<div>\n",
              "<style scoped>\n",
              "    .dataframe tbody tr th:only-of-type {\n",
              "        vertical-align: middle;\n",
              "    }\n",
              "\n",
              "    .dataframe tbody tr th {\n",
              "        vertical-align: top;\n",
              "    }\n",
              "\n",
              "    .dataframe thead th {\n",
              "        text-align: right;\n",
              "    }\n",
              "</style>\n",
              "<table border=\"1\" class=\"dataframe\">\n",
              "  <thead>\n",
              "    <tr style=\"text-align: right;\">\n",
              "      <th></th>\n",
              "      <th>dia</th>\n",
              "      <th>sentido</th>\n",
              "      <th>tipo_vehiculo</th>\n",
              "      <th>cantidad_pasos</th>\n",
              "      <th>fecha</th>\n",
              "    </tr>\n",
              "  </thead>\n",
              "  <tbody>\n",
              "    <tr>\n",
              "      <th>80</th>\n",
              "      <td>Martes</td>\n",
              "      <td>Centro</td>\n",
              "      <td>Liviano</td>\n",
              "      <td>537</td>\n",
              "      <td>2019-01-01 02:00:00</td>\n",
              "    </tr>\n",
              "    <tr>\n",
              "      <th>86</th>\n",
              "      <td>Martes</td>\n",
              "      <td>Centro</td>\n",
              "      <td>Pesado</td>\n",
              "      <td>1</td>\n",
              "      <td>2019-01-01 02:00:00</td>\n",
              "    </tr>\n",
              "    <tr>\n",
              "      <th>88</th>\n",
              "      <td>Martes</td>\n",
              "      <td>Provincia</td>\n",
              "      <td>Liviano</td>\n",
              "      <td>443</td>\n",
              "      <td>2019-01-01 02:00:00</td>\n",
              "    </tr>\n",
              "    <tr>\n",
              "      <th>94</th>\n",
              "      <td>Martes</td>\n",
              "      <td>Provincia</td>\n",
              "      <td>Pesado</td>\n",
              "      <td>1</td>\n",
              "      <td>2019-01-01 02:00:00</td>\n",
              "    </tr>\n",
              "    <tr>\n",
              "      <th>149</th>\n",
              "      <td>Martes</td>\n",
              "      <td>Centro</td>\n",
              "      <td>Liviano</td>\n",
              "      <td>769</td>\n",
              "      <td>2019-01-01 03:00:00</td>\n",
              "    </tr>\n",
              "  </tbody>\n",
              "</table>\n",
              "</div>"
            ],
            "text/plain": [
              "        dia    sentido tipo_vehiculo  cantidad_pasos               fecha\n",
              "80   Martes     Centro       Liviano             537 2019-01-01 02:00:00\n",
              "86   Martes     Centro        Pesado               1 2019-01-01 02:00:00\n",
              "88   Martes  Provincia       Liviano             443 2019-01-01 02:00:00\n",
              "94   Martes  Provincia        Pesado               1 2019-01-01 02:00:00\n",
              "149  Martes     Centro       Liviano             769 2019-01-01 03:00:00"
            ]
          },
          "metadata": {},
          "execution_count": 13
        }
      ]
    },
    {
      "cell_type": "code",
      "metadata": {
        "id": "Z4Uzn2ktId29",
        "colab": {
          "base_uri": "https://localhost:8080/",
          "height": 422
        },
        "outputId": "935e5d22-bc9b-49f9-f3ea-0676ce9a34c7"
      },
      "source": [
        "#Reordenamos el dataset por fecha\n",
        "dataset.sort_values('fecha', inplace = True)\n",
        "dataset.reset_index(drop=True, inplace = True)\n",
        "dataset"
      ],
      "execution_count": 14,
      "outputs": [
        {
          "output_type": "execute_result",
          "data": {
            "text/html": [
              "<div>\n",
              "<style scoped>\n",
              "    .dataframe tbody tr th:only-of-type {\n",
              "        vertical-align: middle;\n",
              "    }\n",
              "\n",
              "    .dataframe tbody tr th {\n",
              "        vertical-align: top;\n",
              "    }\n",
              "\n",
              "    .dataframe thead th {\n",
              "        text-align: right;\n",
              "    }\n",
              "</style>\n",
              "<table border=\"1\" class=\"dataframe\">\n",
              "  <thead>\n",
              "    <tr style=\"text-align: right;\">\n",
              "      <th></th>\n",
              "      <th>dia</th>\n",
              "      <th>sentido</th>\n",
              "      <th>tipo_vehiculo</th>\n",
              "      <th>cantidad_pasos</th>\n",
              "      <th>fecha</th>\n",
              "    </tr>\n",
              "  </thead>\n",
              "  <tbody>\n",
              "    <tr>\n",
              "      <th>0</th>\n",
              "      <td>Domingo</td>\n",
              "      <td>Provincia</td>\n",
              "      <td>Pesado</td>\n",
              "      <td>1</td>\n",
              "      <td>2017-01-01 00:00:00</td>\n",
              "    </tr>\n",
              "    <tr>\n",
              "      <th>1</th>\n",
              "      <td>Domingo</td>\n",
              "      <td>Provincia</td>\n",
              "      <td>Liviano</td>\n",
              "      <td>9</td>\n",
              "      <td>2017-01-01 00:00:00</td>\n",
              "    </tr>\n",
              "    <tr>\n",
              "      <th>2</th>\n",
              "      <td>Domingo</td>\n",
              "      <td>Provincia</td>\n",
              "      <td>Liviano</td>\n",
              "      <td>644</td>\n",
              "      <td>2017-01-01 00:00:00</td>\n",
              "    </tr>\n",
              "    <tr>\n",
              "      <th>3</th>\n",
              "      <td>Domingo</td>\n",
              "      <td>Provincia</td>\n",
              "      <td>Pesado</td>\n",
              "      <td>6</td>\n",
              "      <td>2017-01-01 00:00:00</td>\n",
              "    </tr>\n",
              "    <tr>\n",
              "      <th>4</th>\n",
              "      <td>Domingo</td>\n",
              "      <td>Provincia</td>\n",
              "      <td>Pesado</td>\n",
              "      <td>1</td>\n",
              "      <td>2017-01-01 00:00:00</td>\n",
              "    </tr>\n",
              "    <tr>\n",
              "      <th>...</th>\n",
              "      <td>...</td>\n",
              "      <td>...</td>\n",
              "      <td>...</td>\n",
              "      <td>...</td>\n",
              "      <td>...</td>\n",
              "    </tr>\n",
              "    <tr>\n",
              "      <th>238864</th>\n",
              "      <td>Martes</td>\n",
              "      <td>Provincia</td>\n",
              "      <td>Liviano</td>\n",
              "      <td>556</td>\n",
              "      <td>2019-12-31 22:00:00</td>\n",
              "    </tr>\n",
              "    <tr>\n",
              "      <th>238865</th>\n",
              "      <td>Martes</td>\n",
              "      <td>Provincia</td>\n",
              "      <td>Pesado</td>\n",
              "      <td>1</td>\n",
              "      <td>2019-12-31 22:00:00</td>\n",
              "    </tr>\n",
              "    <tr>\n",
              "      <th>238866</th>\n",
              "      <td>Martes</td>\n",
              "      <td>Centro</td>\n",
              "      <td>Liviano</td>\n",
              "      <td>580</td>\n",
              "      <td>2019-12-31 22:00:00</td>\n",
              "    </tr>\n",
              "    <tr>\n",
              "      <th>238867</th>\n",
              "      <td>Martes</td>\n",
              "      <td>Centro</td>\n",
              "      <td>Liviano</td>\n",
              "      <td>214</td>\n",
              "      <td>2019-12-31 23:00:00</td>\n",
              "    </tr>\n",
              "    <tr>\n",
              "      <th>238868</th>\n",
              "      <td>Martes</td>\n",
              "      <td>Provincia</td>\n",
              "      <td>Liviano</td>\n",
              "      <td>190</td>\n",
              "      <td>2019-12-31 23:00:00</td>\n",
              "    </tr>\n",
              "  </tbody>\n",
              "</table>\n",
              "<p>238869 rows × 5 columns</p>\n",
              "</div>"
            ],
            "text/plain": [
              "            dia    sentido tipo_vehiculo  cantidad_pasos               fecha\n",
              "0       Domingo  Provincia        Pesado               1 2017-01-01 00:00:00\n",
              "1       Domingo  Provincia       Liviano               9 2017-01-01 00:00:00\n",
              "2       Domingo  Provincia       Liviano             644 2017-01-01 00:00:00\n",
              "3       Domingo  Provincia        Pesado               6 2017-01-01 00:00:00\n",
              "4       Domingo  Provincia        Pesado               1 2017-01-01 00:00:00\n",
              "...         ...        ...           ...             ...                 ...\n",
              "238864   Martes  Provincia       Liviano             556 2019-12-31 22:00:00\n",
              "238865   Martes  Provincia        Pesado               1 2019-12-31 22:00:00\n",
              "238866   Martes     Centro       Liviano             580 2019-12-31 22:00:00\n",
              "238867   Martes     Centro       Liviano             214 2019-12-31 23:00:00\n",
              "238868   Martes  Provincia       Liviano             190 2019-12-31 23:00:00\n",
              "\n",
              "[238869 rows x 5 columns]"
            ]
          },
          "metadata": {},
          "execution_count": 14
        }
      ]
    },
    {
      "cell_type": "code",
      "metadata": {
        "id": "ZzYn6u95Id3B",
        "colab": {
          "base_uri": "https://localhost:8080/",
          "height": 388
        },
        "outputId": "dee65c69-0677-4aca-8d38-8077f8e0c06e"
      },
      "source": [
        "#Graficamos nuestros datos, tal como están\n",
        "plt.figure(figsize = (15,6))\n",
        "plt.plot(dataset.fecha, dataset.cantidad_pasos)\n",
        "plt.xlabel('Tiempo')\n",
        "plt.ylabel('Cantidad de autos, por hora')\n",
        "plt.show()"
      ],
      "execution_count": 15,
      "outputs": [
        {
          "output_type": "display_data",
          "data": {
            "image/png": "[encoded data removed]",
            "text/plain": [
              "<Figure size 1080x432 with 1 Axes>"
            ]
          },
          "metadata": {
            "needs_background": "light"
          }
        }
      ]
    },
    {
      "cell_type": "code",
      "metadata": {
        "id": "amoQFmNpId3F",
        "colab": {
          "base_uri": "https://localhost:8080/",
          "height": 255
        },
        "outputId": "3e333151-7f5b-4088-80f7-bdf26ecf3d97"
      },
      "source": [
        "#Resampleamos nuestros datos para agrupar por dia, y asi tal vez lograr una visualización mas amigable\n",
        "diario = dataset.resample('D', on = 'fecha').sum()\n",
        "print(diario.shape)\n",
        "diario.head()"
      ],
      "execution_count": 16,
      "outputs": [
        {
          "output_type": "stream",
          "name": "stdout",
          "text": [
            "(1095, 1)\n"
          ]
        },
        {
          "output_type": "execute_result",
          "data": {
            "text/html": [
              "<div>\n",
              "<style scoped>\n",
              "    .dataframe tbody tr th:only-of-type {\n",
              "        vertical-align: middle;\n",
              "    }\n",
              "\n",
              "    .dataframe tbody tr th {\n",
              "        vertical-align: top;\n",
              "    }\n",
              "\n",
              "    .dataframe thead th {\n",
              "        text-align: right;\n",
              "    }\n",
              "</style>\n",
              "<table border=\"1\" class=\"dataframe\">\n",
              "  <thead>\n",
              "    <tr style=\"text-align: right;\">\n",
              "      <th></th>\n",
              "      <th>cantidad_pasos</th>\n",
              "    </tr>\n",
              "    <tr>\n",
              "      <th>fecha</th>\n",
              "      <th></th>\n",
              "    </tr>\n",
              "  </thead>\n",
              "  <tbody>\n",
              "    <tr>\n",
              "      <th>2017-01-01</th>\n",
              "      <td>31183</td>\n",
              "    </tr>\n",
              "    <tr>\n",
              "      <th>2017-01-02</th>\n",
              "      <td>51568</td>\n",
              "    </tr>\n",
              "    <tr>\n",
              "      <th>2017-01-03</th>\n",
              "      <td>51093</td>\n",
              "    </tr>\n",
              "    <tr>\n",
              "      <th>2017-01-04</th>\n",
              "      <td>53332</td>\n",
              "    </tr>\n",
              "    <tr>\n",
              "      <th>2017-01-05</th>\n",
              "      <td>56486</td>\n",
              "    </tr>\n",
              "  </tbody>\n",
              "</table>\n",
              "</div>"
            ],
            "text/plain": [
              "            cantidad_pasos\n",
              "fecha                     \n",
              "2017-01-01           31183\n",
              "2017-01-02           51568\n",
              "2017-01-03           51093\n",
              "2017-01-04           53332\n",
              "2017-01-05           56486"
            ]
          },
          "metadata": {},
          "execution_count": 16
        }
      ]
    },
    {
      "cell_type": "code",
      "metadata": {
        "id": "JgqZaiEDId3L",
        "colab": {
          "base_uri": "https://localhost:8080/",
          "height": 388
        },
        "outputId": "8574b028-1738-429f-9e46-a7c8b13bf96b"
      },
      "source": [
        "plt.figure(figsize = (15,6))\n",
        "plt.plot(diario.index, diario.cantidad_pasos)\n",
        "plt.xlabel('Tiempo')\n",
        "plt.ylabel('Cantidad de autos, por dia')\n",
        "plt.show()"
      ],
      "execution_count": 17,
      "outputs": [
        {
          "output_type": "display_data",
          "data": {
            "image/png": "[encoded data removed]",
            "text/plain": [
              "<Figure size 1080x432 with 1 Axes>"
            ]
          },
          "metadata": {
            "needs_background": "light"
          }
        }
      ]
    },
    {
      "cell_type": "code",
      "metadata": {
        "id": "vfwxE2VXId3O"
      },
      "source": [
        ""
      ],
      "execution_count": null,
      "outputs": []
    }
  ]
}